{
 "cells": [
  {
   "cell_type": "code",
   "execution_count": null,
   "id": "24ff2094-5374-401f-b5c2-187ee9f80dac",
   "metadata": {},
   "outputs": [],
   "source": [
    "Q1. What is a database? Differentiate between SQL and NoSQL databases."
   ]
  },
  {
   "cell_type": "code",
   "execution_count": null,
   "id": "ef93e75e-0655-41d5-a3f9-925d87849147",
   "metadata": {},
   "outputs": [],
   "source": [
    "Database :\n",
    "          A database is an organized collection of structured information or data that is typically stored electronically in a computer system.\n",
    "          It is usually controlled by a database management system (DBMS).\n",
    "SQL :\n",
    "    SQL, which stands for “Structured Query Language,” is the programming language that’s been widely used in managing data \n",
    "    in relational database management systems (RDBMS).\n",
    "    MySQL , MsSQL ,DB2\n",
    "NoSQL :\n",
    "      A NoSQL database has a dynamic schema for unstructured data. Data is stored in many ways which means it can be document\n",
    "      -oriented, column-oriented, graph-based, or organized as a key-value store. This flexibility means that documents can be\n",
    "      created without having a defined structure first. \n",
    "      MongoDB , Cassandra , Hbase"
   ]
  },
  {
   "cell_type": "code",
   "execution_count": null,
   "id": "ae01d47f-af0b-46d4-92ca-0f12e681262d",
   "metadata": {},
   "outputs": [],
   "source": [
    "--------------------------------------------------------------------------------------------------------------------------------"
   ]
  },
  {
   "cell_type": "code",
   "execution_count": null,
   "id": "117506fc-42c2-495a-ab1c-af02dc9ed532",
   "metadata": {},
   "outputs": [],
   "source": [
    "Q2. What is DDL? Explain why CREATE, DROP, ALTER, and TRUNCATE are used with an example."
   ]
  },
  {
   "cell_type": "code",
   "execution_count": null,
   "id": "8b637c43-d20e-47f2-9843-5257dd252c3f",
   "metadata": {},
   "outputs": [],
   "source": [
    "DDL :\n",
    "    DDL stands for Data Definition Language. It is used to define the structure of the database.\n",
    "    CREATE, DROP, ALTER, and TRUNCATE are all DDL commands used in SQL.\n",
    "    \n",
    "    CREATE is used to create a new table in SQL by specifying the table name, column names, and their data types13.\n",
    "    DROP is used to remove an existing table along with its structure from the database124.\n",
    "    ALTER is used to modify the structure of an existing table, such as adding or deleting columns.\n",
    "    TRUNCATE is used to remove all data from a table without deleting the table structure"
   ]
  },
  {
   "cell_type": "code",
   "execution_count": null,
   "id": "178e3f36-1dd4-4746-a259-a426bbf1620d",
   "metadata": {},
   "outputs": [],
   "source": [
    "import mysql.connector\n",
    "# import mysql.connector\n",
    "#create user 'user'@'%' identified by 'password'\n",
    "mydb = mysql.connector.connect(\n",
    "  host=\"localhost\",\n",
    "  user=\"abc\",\n",
    "  password=\"password\"\n",
    ")\n",
    "\n",
    "mycursor = mydb.cursor()\n",
    "mycursor.execute(\"CREATE DATABASE if not exists test2\")\n",
    "mycursor.execute(\"CREATE TABLE if not exists test2.test_table(c1 INT , c2 VARCHAR(30) ,c3 FLOAT)\")\n",
    "mycursor.execute(\" insert into test2.test_table values(123,'RAM',12.34)\")\n",
    "mydb.commit()\n",
    "#mycursor.execute(\"select*from test2.test_table\")\n",
    "mycursor.execute(\"select c1 , c3 from test2.test_table\")\n",
    "for i in mycursor.fetchall() :\n",
    "    print(i)\n",
    "mydb.close()"
   ]
  },
  {
   "cell_type": "code",
   "execution_count": null,
   "id": "1d972412-834f-4cc0-b533-cf77e202f018",
   "metadata": {},
   "outputs": [],
   "source": [
    "--------------------------------------------------------------------------------------------------------------------------------"
   ]
  },
  {
   "cell_type": "code",
   "execution_count": null,
   "id": "3dd01b73-2bf7-4f6d-acf2-7cb271ada818",
   "metadata": {},
   "outputs": [],
   "source": [
    "Q3. What is DML? Explain INSERT, UPDATE, and DELETE with an example."
   ]
  },
  {
   "cell_type": "code",
   "execution_count": null,
   "id": "95aa93d2-b7ef-4aa1-8501-2b118ff35929",
   "metadata": {},
   "outputs": [],
   "source": [
    "DML stands for Data Manipulation Language. It is used to manipulate data in a database.\n",
    "INSERT:\n",
    "      This command is used to add new rows to an existing table. "
   ]
  },
  {
   "cell_type": "code",
   "execution_count": null,
   "id": "c983e5c1-7cae-462a-bdbb-bdcce206fb61",
   "metadata": {},
   "outputs": [],
   "source": [
    "INSERT INTO employee (emp_id, emp_name, emp_salary) \n",
    "VALUES (1, 'John', 50000);"
   ]
  },
  {
   "cell_type": "code",
   "execution_count": null,
   "id": "7a3485d3-a00d-42ad-83e7-00b64731675a",
   "metadata": {},
   "outputs": [],
   "source": [
    "UPDATE: \n",
    "      This command is used to modify existing rows in a table. "
   ]
  },
  {
   "cell_type": "code",
   "execution_count": null,
   "id": "729e1196-afed-43c8-8106-2e18e80ec0a2",
   "metadata": {},
   "outputs": [],
   "source": [
    "UPDATE employee SET emp_salary = 55000 WHERE emp_id = 1;"
   ]
  },
  {
   "cell_type": "code",
   "execution_count": null,
   "id": "dfcfbb65-41f5-4f86-9cd5-5283ed3fa48b",
   "metadata": {},
   "outputs": [],
   "source": [
    "DELETE:\n",
    "      This command is used to delete rows from a table"
   ]
  },
  {
   "cell_type": "code",
   "execution_count": null,
   "id": "0eeeaa1b-297b-4d5f-ab72-0ecb0a11b8be",
   "metadata": {},
   "outputs": [],
   "source": [
    "DELETE FROM employee WHERE emp_id = 1;"
   ]
  },
  {
   "cell_type": "code",
   "execution_count": null,
   "id": "7660bc59-e537-49e1-86f7-77c1978c15f5",
   "metadata": {},
   "outputs": [],
   "source": [
    "--------------------------------------------------------------------------------------------------------------------------------"
   ]
  },
  {
   "cell_type": "code",
   "execution_count": null,
   "id": "b0a1e05c-4b90-4718-b830-af2a8d818597",
   "metadata": {},
   "outputs": [],
   "source": [
    "Q4. What is DQL? Explain SELECT with an example."
   ]
  },
  {
   "cell_type": "code",
   "execution_count": null,
   "id": "48d6c3d8-f55d-430b-92f5-aaead4bf23ee",
   "metadata": {},
   "outputs": [],
   "source": [
    "Data Query Language (DQL) is used to fetch data from a database. The principal DQL command in SQL is the SELECT command,\n",
    "which retrieves data from one or more tables. \n",
    "The SELECT command helps you to select the attribute based on the condition described by the WHERE clause.\n",
    "For example:\n",
    "        SELECT FirstName FROM Student WHERE RollNo > 15; "
   ]
  },
  {
   "cell_type": "code",
   "execution_count": null,
   "id": "6e28b4bf-290d-435e-bd04-1862c2690bd9",
   "metadata": {},
   "outputs": [],
   "source": [
    "-------------------------------------------------------------------------------------------------------------------------------"
   ]
  },
  {
   "cell_type": "code",
   "execution_count": null,
   "id": "a6a2472f-e0ea-40e0-b9be-0fda628544a1",
   "metadata": {},
   "outputs": [],
   "source": [
    "Q5. Explain Primary Key and Foreign Key."
   ]
  },
  {
   "cell_type": "code",
   "execution_count": null,
   "id": "315fd309-8d2a-4fa4-bdd1-041f1949dc88",
   "metadata": {},
   "outputs": [],
   "source": [
    "Primary Key:\n",
    "           A primary key is a column or a set of columns in a database table that uniquely identifies each record or row \n",
    "           in the table. It ensures that each row has a unique identifier and provides a way to identify and access specific \n",
    "           records in the table.\n",
    "        \n",
    "Foreign Key:\n",
    "           A foreign key is a column or a set of columns in a database table that establishes a link or relationship to a\n",
    "           primary key in another table. It represents a reference to the primary key of another table, creating a logical\n",
    "           association between the two tables. The purpose of foreign keys is to maintain referential integrity, ensuring \n",
    "           that relationships between tables are valid. "
   ]
  },
  {
   "cell_type": "code",
   "execution_count": null,
   "id": "65b86273-0a64-4014-975c-2b428ae6a710",
   "metadata": {},
   "outputs": [],
   "source": [
    "-------------------------------------------------------------------------------------------------------------------------------"
   ]
  },
  {
   "cell_type": "code",
   "execution_count": null,
   "id": "b27874cc-e9ac-4e4f-8dfe-071cc9cda77c",
   "metadata": {},
   "outputs": [],
   "source": [
    "Q6. Write a python code to connect MySQL to python. Explain the cursor() and execute() method."
   ]
  },
  {
   "cell_type": "code",
   "execution_count": null,
   "id": "6b000720-d6c8-4d86-b7f0-4d40ce40cca9",
   "metadata": {},
   "outputs": [],
   "source": [
    "import mysql.connector\n",
    "# import mysql.connector\n",
    "#create user 'user'@'%' identified by 'password'\n",
    "mydb = mysql.connector.connect(\n",
    "  host=\"localhost\",\n",
    "  user=\"abc\",\n",
    "  password=\"password\"\n",
    ")\n",
    "\n",
    "mycursor = mydb.cursor()\n",
    "mycursor.execute(\"CREATE DATABASE if not exists test2\")\n",
    "mycursor.execute(\"CREATE TABLE if not exists test2.test_table(c1 INT , c2 VARCHAR(30) ,c3 FLOAT)\")\n",
    "mycursor.execute(\" insert into test2.test_table values(123,'RAM',12.34)\")\n",
    "mydb.commit()\n",
    "#mycursor.execute(\"select*from test2.test_table\")\n",
    "mycursor.execute(\"select c1 , c3 from test2.test_table\")\n",
    "for i in mycursor.fetchall() :\n",
    "    print(i)\n",
    "mydb.close()"
   ]
  },
  {
   "cell_type": "code",
   "execution_count": null,
   "id": "4b70bc1b-d4d2-4b69-9755-2cc8d5133563",
   "metadata": {},
   "outputs": [],
   "source": [
    "cursor() method:\n",
    "                The cursor() method is used to create a cursor object. A cursor is an interface that allows you to traverse\n",
    "                and manipulate the result set returned by a database query. It provides methods and attributes to execute SQL\n",
    "                statements, fetch data, and manage transactions.\n",
    "                \n",
    "execute() method:\n",
    "               The execute() method is used to execute an SQL statement or query using the cursor object.\n",
    "               It allows you to send SQL commands to the database and retrieve the results, if applicable.\n",
    "               The execute() method typically takes the SQL query as a parameter."
   ]
  },
  {
   "cell_type": "code",
   "execution_count": null,
   "id": "065a1b20-c75c-4359-a685-25999d722ea7",
   "metadata": {},
   "outputs": [],
   "source": [
    "-------------------------------------------------------------------------------------------------------------------------------"
   ]
  },
  {
   "cell_type": "code",
   "execution_count": null,
   "id": "09834e98-1bda-414b-83b9-fa813df3299c",
   "metadata": {},
   "outputs": [],
   "source": [
    "Q7. Give the order of execution of SQL clauses in an SQL query."
   ]
  },
  {
   "cell_type": "code",
   "execution_count": null,
   "id": "bc9e5312-8753-4cdf-86d7-2b4613f06477",
   "metadata": {},
   "outputs": [],
   "source": [
    "1. From and Joins : since these two forms the basis of the query\n",
    "2. Where : Filters out the rows\n",
    "3. Group By : Grouping values based on the column specified in the Group By clause\n",
    "4. Having : Filters out the grouped rows\n",
    "5. Select\n",
    "6. Distinct : Rows with duplicate values in the column marked as Distinct are discarded\n",
    "7. Order By : Rows are sorted based on Order By clause\n",
    "8. Limit, Offset : Finally the limit or offset is applied"
   ]
  }
 ],
 "metadata": {
  "kernelspec": {
   "display_name": "Python 3 (ipykernel)",
   "language": "python",
   "name": "python3"
  },
  "language_info": {
   "codemirror_mode": {
    "name": "ipython",
    "version": 3
   },
   "file_extension": ".py",
   "mimetype": "text/x-python",
   "name": "python",
   "nbconvert_exporter": "python",
   "pygments_lexer": "ipython3",
   "version": "3.10.8"
  }
 },
 "nbformat": 4,
 "nbformat_minor": 5
}
